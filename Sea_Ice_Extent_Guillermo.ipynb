{
  "nbformat": 4,
  "nbformat_minor": 0,
  "metadata": {
    "kernelspec": {
      "display_name": "Python 3",
      "language": "python",
      "name": "python3"
    },
    "language_info": {
      "codemirror_mode": {
        "name": "ipython",
        "version": 3
      },
      "file_extension": ".py",
      "mimetype": "text/x-python",
      "name": "python",
      "nbconvert_exporter": "python",
      "pygments_lexer": "ipython3",
      "version": "3.7.1"
    },
    "colab": {
      "name": "Sea Ice Extent_Guillermo.ipynb",
      "provenance": [],
      "collapsed_sections": [],
      "toc_visible": true,
      "include_colab_link": true
    }
  },
  "cells": [
    {
      "cell_type": "markdown",
      "metadata": {
        "id": "view-in-github",
        "colab_type": "text"
      },
      "source": [
        "<a href=\"https://colab.research.google.com/github/guillermodelafuente/IA3_projects/blob/main/Sea_Ice_Extent_Guillermo.ipynb\" target=\"_parent\"><img src=\"https://colab.research.google.com/assets/colab-badge.svg\" alt=\"Open In Colab\"/></a>"
      ]
    },
    {
      "cell_type": "markdown",
      "metadata": {
        "id": "skz8s_ubg0HF"
      },
      "source": [
        "\n",
        "### Climate Change and Sea Ice Extent\n",
        "\n",
        "We want to answer the question: Has there been a decrease in the amount of ice in the last years?\n",
        "\n",
        "For that we will use the sea ice extent measurements (in millions of square km) from the [National Snow & Ice Data Center](https://nsidc.org).\n",
        "\n",
        "We perform the following processing steps:\n",
        "1. Read and clean the data.\n",
        "2. Normalize the Sea Ice Extent (SIE) data and visualize its temporal trend.\n",
        "3. Compute the SIE temporal trend as a simple linear regression (OLS) and quantitatively evaluate it.\n",
        "4. Estimate the sea ice extent for 2025.\n"
      ]
    },
    {
      "cell_type": "markdown",
      "metadata": {
        "id": "LgcrYxLFg0HN"
      },
      "source": [
        "### 1. Read and clean the data.\n",
        "Load the monthly sea ice extent (SIE) monthly data provided in the file 'SeaIce.txt'. Note variables ``extent`` (SIE) and ``area`` should be greater or equal than zero. Detect possible outliers and clean the data.  "
      ]
    },
    {
      "cell_type": "code",
      "metadata": {
        "id": "YOrS_pSCg0HN"
      },
      "source": [
        "#your solution here\n",
        "import numpy as np\n",
        "import pandas as pd\n",
        "from pandas import DataFrame\n",
        "import warnings\n",
        "warnings.filterwarnings('ignore')"
      ],
      "execution_count": 52,
      "outputs": []
    },
    {
      "cell_type": "markdown",
      "metadata": {
        "id": "6xpdTT3bTGkZ"
      },
      "source": [
        "#### Read data"
      ]
    },
    {
      "cell_type": "code",
      "metadata": {
        "colab": {
          "resources": {
            "http://localhost:8080/nbextensions/google.colab/files.js": {
              "data": "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",
              "ok": true,
              "headers": [
                [
                  "content-type",
                  "application/javascript"
                ]
              ],
              "status": 200,
              "status_text": ""
            }
          },
          "base_uri": "https://localhost:8080/",
          "height": 77
        },
        "id": "KJBUC0ialrNN",
        "outputId": "0ea6dc22-0f12-4a53-d259-364e4b0d9ea6"
      },
      "source": [
        "from google.colab import files\n",
        "df = files.upload()"
      ],
      "execution_count": 2,
      "outputs": [
        {
          "output_type": "display_data",
          "data": {
            "text/html": [
              "\n",
              "     <input type=\"file\" id=\"files-7ead2c60-046a-4838-804c-0d6001df29fd\" name=\"files[]\" multiple disabled\n",
              "        style=\"border:none\" />\n",
              "     <output id=\"result-7ead2c60-046a-4838-804c-0d6001df29fd\">\n",
              "      Upload widget is only available when the cell has been executed in the\n",
              "      current browser session. Please rerun this cell to enable.\n",
              "      </output>\n",
              "      <script src=\"/nbextensions/google.colab/files.js\"></script> "
            ],
            "text/plain": [
              "<IPython.core.display.HTML object>"
            ]
          },
          "metadata": {
            "tags": []
          }
        },
        {
          "output_type": "stream",
          "text": [
            "Saving SeaIce.txt to SeaIce.txt\n"
          ],
          "name": "stdout"
        }
      ]
    },
    {
      "cell_type": "code",
      "metadata": {
        "colab": {
          "base_uri": "https://localhost:8080/"
        },
        "id": "oG9xWDsvoerv",
        "outputId": "9cb0952c-7ad4-4306-9064-7331500fe7a8"
      },
      "source": [
        "ls"
      ],
      "execution_count": 14,
      "outputs": [
        {
          "output_type": "stream",
          "text": [
            "\u001b[0m\u001b[01;34msample_data\u001b[0m/  SeaIce.txt\n"
          ],
          "name": "stdout"
        }
      ]
    },
    {
      "cell_type": "code",
      "metadata": {
        "colab": {
          "base_uri": "https://localhost:8080/",
          "height": 419
        },
        "id": "lbR-XUtvjn7p",
        "outputId": "2da95efc-ddc7-4d2c-e2cc-5243530e4ae0"
      },
      "source": [
        "df = pd.read_csv(\"SeaIce.txt\", delim_whitespace=True)\n",
        "df"
      ],
      "execution_count": 138,
      "outputs": [
        {
          "output_type": "execute_result",
          "data": {
            "text/html": [
              "<div>\n",
              "<style scoped>\n",
              "    .dataframe tbody tr th:only-of-type {\n",
              "        vertical-align: middle;\n",
              "    }\n",
              "\n",
              "    .dataframe tbody tr th {\n",
              "        vertical-align: top;\n",
              "    }\n",
              "\n",
              "    .dataframe thead th {\n",
              "        text-align: right;\n",
              "    }\n",
              "</style>\n",
              "<table border=\"1\" class=\"dataframe\">\n",
              "  <thead>\n",
              "    <tr style=\"text-align: right;\">\n",
              "      <th></th>\n",
              "      <th>year</th>\n",
              "      <th>mo</th>\n",
              "      <th>data_type</th>\n",
              "      <th>region</th>\n",
              "      <th>extent</th>\n",
              "      <th>area</th>\n",
              "    </tr>\n",
              "  </thead>\n",
              "  <tbody>\n",
              "    <tr>\n",
              "      <th>0</th>\n",
              "      <td>1979</td>\n",
              "      <td>1</td>\n",
              "      <td>Goddard</td>\n",
              "      <td>N</td>\n",
              "      <td>15.54</td>\n",
              "      <td>12.33</td>\n",
              "    </tr>\n",
              "    <tr>\n",
              "      <th>1</th>\n",
              "      <td>1980</td>\n",
              "      <td>1</td>\n",
              "      <td>Goddard</td>\n",
              "      <td>N</td>\n",
              "      <td>14.96</td>\n",
              "      <td>11.85</td>\n",
              "    </tr>\n",
              "    <tr>\n",
              "      <th>2</th>\n",
              "      <td>1981</td>\n",
              "      <td>1</td>\n",
              "      <td>Goddard</td>\n",
              "      <td>N</td>\n",
              "      <td>15.03</td>\n",
              "      <td>11.82</td>\n",
              "    </tr>\n",
              "    <tr>\n",
              "      <th>3</th>\n",
              "      <td>1982</td>\n",
              "      <td>1</td>\n",
              "      <td>Goddard</td>\n",
              "      <td>N</td>\n",
              "      <td>15.26</td>\n",
              "      <td>12.11</td>\n",
              "    </tr>\n",
              "    <tr>\n",
              "      <th>4</th>\n",
              "      <td>1983</td>\n",
              "      <td>1</td>\n",
              "      <td>Goddard</td>\n",
              "      <td>N</td>\n",
              "      <td>15.10</td>\n",
              "      <td>11.92</td>\n",
              "    </tr>\n",
              "    <tr>\n",
              "      <th>...</th>\n",
              "      <td>...</td>\n",
              "      <td>...</td>\n",
              "      <td>...</td>\n",
              "      <td>...</td>\n",
              "      <td>...</td>\n",
              "      <td>...</td>\n",
              "    </tr>\n",
              "    <tr>\n",
              "      <th>419</th>\n",
              "      <td>2009</td>\n",
              "      <td>12</td>\n",
              "      <td>Goddard</td>\n",
              "      <td>N</td>\n",
              "      <td>12.51</td>\n",
              "      <td>10.25</td>\n",
              "    </tr>\n",
              "    <tr>\n",
              "      <th>420</th>\n",
              "      <td>2010</td>\n",
              "      <td>12</td>\n",
              "      <td>Goddard</td>\n",
              "      <td>N</td>\n",
              "      <td>12.02</td>\n",
              "      <td>10.08</td>\n",
              "    </tr>\n",
              "    <tr>\n",
              "      <th>421</th>\n",
              "      <td>2011</td>\n",
              "      <td>12</td>\n",
              "      <td>Goddard</td>\n",
              "      <td>N</td>\n",
              "      <td>12.40</td>\n",
              "      <td>10.28</td>\n",
              "    </tr>\n",
              "    <tr>\n",
              "      <th>422</th>\n",
              "      <td>2012</td>\n",
              "      <td>12</td>\n",
              "      <td>Goddard</td>\n",
              "      <td>N</td>\n",
              "      <td>12.20</td>\n",
              "      <td>10.11</td>\n",
              "    </tr>\n",
              "    <tr>\n",
              "      <th>423</th>\n",
              "      <td>2013</td>\n",
              "      <td>12</td>\n",
              "      <td>NRTSI-G</td>\n",
              "      <td>N</td>\n",
              "      <td>12.38</td>\n",
              "      <td>10.48</td>\n",
              "    </tr>\n",
              "  </tbody>\n",
              "</table>\n",
              "<p>424 rows × 6 columns</p>\n",
              "</div>"
            ],
            "text/plain": [
              "     year  mo data_type region  extent   area\n",
              "0    1979   1   Goddard      N   15.54  12.33\n",
              "1    1980   1   Goddard      N   14.96  11.85\n",
              "2    1981   1   Goddard      N   15.03  11.82\n",
              "3    1982   1   Goddard      N   15.26  12.11\n",
              "4    1983   1   Goddard      N   15.10  11.92\n",
              "..    ...  ..       ...    ...     ...    ...\n",
              "419  2009  12   Goddard      N   12.51  10.25\n",
              "420  2010  12   Goddard      N   12.02  10.08\n",
              "421  2011  12   Goddard      N   12.40  10.28\n",
              "422  2012  12   Goddard      N   12.20  10.11\n",
              "423  2013  12   NRTSI-G      N   12.38  10.48\n",
              "\n",
              "[424 rows x 6 columns]"
            ]
          },
          "metadata": {
            "tags": []
          },
          "execution_count": 138
        }
      ]
    },
    {
      "cell_type": "markdown",
      "metadata": {
        "id": "wEFvspUcT4ZI"
      },
      "source": [
        "#### Data cleaning"
      ]
    },
    {
      "cell_type": "code",
      "metadata": {
        "colab": {
          "base_uri": "https://localhost:8080/",
          "height": 419
        },
        "id": "kgZ5ESWuu3j2",
        "outputId": "9c3ad1d5-35b9-4b4c-c208-066611e86931"
      },
      "source": [
        "df = df[(df['extent'] >= 0) | (df['extent'].isnull())]\n",
        "#df.sort_values(by='extent')\n",
        "df.sort_values(by='area')"
      ],
      "execution_count": 139,
      "outputs": [
        {
          "output_type": "execute_result",
          "data": {
            "text/html": [
              "<div>\n",
              "<style scoped>\n",
              "    .dataframe tbody tr th:only-of-type {\n",
              "        vertical-align: middle;\n",
              "    }\n",
              "\n",
              "    .dataframe tbody tr th {\n",
              "        vertical-align: top;\n",
              "    }\n",
              "\n",
              "    .dataframe thead th {\n",
              "        text-align: right;\n",
              "    }\n",
              "</style>\n",
              "<table border=\"1\" class=\"dataframe\">\n",
              "  <thead>\n",
              "    <tr style=\"text-align: right;\">\n",
              "      <th></th>\n",
              "      <th>year</th>\n",
              "      <th>mo</th>\n",
              "      <th>data_type</th>\n",
              "      <th>region</th>\n",
              "      <th>extent</th>\n",
              "      <th>area</th>\n",
              "    </tr>\n",
              "  </thead>\n",
              "  <tbody>\n",
              "    <tr>\n",
              "      <th>315</th>\n",
              "      <td>2012</td>\n",
              "      <td>9</td>\n",
              "      <td>Goddard</td>\n",
              "      <td>N</td>\n",
              "      <td>3.63</td>\n",
              "      <td>2.15</td>\n",
              "    </tr>\n",
              "    <tr>\n",
              "      <th>280</th>\n",
              "      <td>2012</td>\n",
              "      <td>8</td>\n",
              "      <td>Goddard</td>\n",
              "      <td>N</td>\n",
              "      <td>4.71</td>\n",
              "      <td>2.56</td>\n",
              "    </tr>\n",
              "    <tr>\n",
              "      <th>310</th>\n",
              "      <td>2007</td>\n",
              "      <td>9</td>\n",
              "      <td>Goddard</td>\n",
              "      <td>N</td>\n",
              "      <td>4.30</td>\n",
              "      <td>2.78</td>\n",
              "    </tr>\n",
              "    <tr>\n",
              "      <th>314</th>\n",
              "      <td>2011</td>\n",
              "      <td>9</td>\n",
              "      <td>Goddard</td>\n",
              "      <td>N</td>\n",
              "      <td>4.63</td>\n",
              "      <td>2.94</td>\n",
              "    </tr>\n",
              "    <tr>\n",
              "      <th>311</th>\n",
              "      <td>2008</td>\n",
              "      <td>9</td>\n",
              "      <td>Goddard</td>\n",
              "      <td>N</td>\n",
              "      <td>4.73</td>\n",
              "      <td>2.99</td>\n",
              "    </tr>\n",
              "    <tr>\n",
              "      <th>...</th>\n",
              "      <td>...</td>\n",
              "      <td>...</td>\n",
              "      <td>...</td>\n",
              "      <td>...</td>\n",
              "      <td>...</td>\n",
              "      <td>...</td>\n",
              "    </tr>\n",
              "    <tr>\n",
              "      <th>50</th>\n",
              "      <td>1993</td>\n",
              "      <td>2</td>\n",
              "      <td>Goddard</td>\n",
              "      <td>N</td>\n",
              "      <td>15.73</td>\n",
              "      <td>13.54</td>\n",
              "    </tr>\n",
              "    <tr>\n",
              "      <th>94</th>\n",
              "      <td>2001</td>\n",
              "      <td>3</td>\n",
              "      <td>Goddard</td>\n",
              "      <td>N</td>\n",
              "      <td>15.61</td>\n",
              "      <td>13.57</td>\n",
              "    </tr>\n",
              "    <tr>\n",
              "      <th>55</th>\n",
              "      <td>1998</td>\n",
              "      <td>2</td>\n",
              "      <td>Goddard</td>\n",
              "      <td>N</td>\n",
              "      <td>15.77</td>\n",
              "      <td>13.70</td>\n",
              "    </tr>\n",
              "    <tr>\n",
              "      <th>86</th>\n",
              "      <td>1993</td>\n",
              "      <td>3</td>\n",
              "      <td>Goddard</td>\n",
              "      <td>N</td>\n",
              "      <td>15.88</td>\n",
              "      <td>13.71</td>\n",
              "    </tr>\n",
              "    <tr>\n",
              "      <th>81</th>\n",
              "      <td>1988</td>\n",
              "      <td>3</td>\n",
              "      <td>Goddard</td>\n",
              "      <td>N</td>\n",
              "      <td>16.13</td>\n",
              "      <td>13.84</td>\n",
              "    </tr>\n",
              "  </tbody>\n",
              "</table>\n",
              "<p>422 rows × 6 columns</p>\n",
              "</div>"
            ],
            "text/plain": [
              "     year  mo data_type region  extent   area\n",
              "315  2012   9   Goddard      N    3.63   2.15\n",
              "280  2012   8   Goddard      N    4.71   2.56\n",
              "310  2007   9   Goddard      N    4.30   2.78\n",
              "314  2011   9   Goddard      N    4.63   2.94\n",
              "311  2008   9   Goddard      N    4.73   2.99\n",
              "..    ...  ..       ...    ...     ...    ...\n",
              "50   1993   2   Goddard      N   15.73  13.54\n",
              "94   2001   3   Goddard      N   15.61  13.57\n",
              "55   1998   2   Goddard      N   15.77  13.70\n",
              "86   1993   3   Goddard      N   15.88  13.71\n",
              "81   1988   3   Goddard      N   16.13  13.84\n",
              "\n",
              "[422 rows x 6 columns]"
            ]
          },
          "metadata": {
            "tags": []
          },
          "execution_count": 139
        }
      ]
    },
    {
      "cell_type": "markdown",
      "metadata": {
        "id": "OZG_sxLDTfk3"
      },
      "source": [
        "#### Exporatory data Analysis"
      ]
    },
    {
      "cell_type": "code",
      "metadata": {
        "colab": {
          "base_uri": "https://localhost:8080/"
        },
        "id": "bqVEpNINpy1G",
        "outputId": "9e4ccd60-7aaf-4dcf-de82-f206ae538eac"
      },
      "source": [
        "df.info()"
      ],
      "execution_count": 36,
      "outputs": [
        {
          "output_type": "stream",
          "text": [
            "<class 'pandas.core.frame.DataFrame'>\n",
            "RangeIndex: 424 entries, 0 to 423\n",
            "Data columns (total 6 columns):\n",
            " #   Column     Non-Null Count  Dtype  \n",
            "---  ------     --------------  -----  \n",
            " 0   year       424 non-null    int64  \n",
            " 1   mo         424 non-null    int64  \n",
            " 2   data_type  424 non-null    object \n",
            " 3   region     424 non-null    object \n",
            " 4   extent     424 non-null    float64\n",
            " 5   area       424 non-null    float64\n",
            "dtypes: float64(2), int64(2), object(2)\n",
            "memory usage: 20.0+ KB\n"
          ],
          "name": "stdout"
        }
      ]
    },
    {
      "cell_type": "code",
      "metadata": {
        "colab": {
          "base_uri": "https://localhost:8080/",
          "height": 297
        },
        "id": "_OMcHOK9x_E-",
        "outputId": "949aa3b8-48c1-448c-f891-8af4c33f209e"
      },
      "source": [
        "df.describe()"
      ],
      "execution_count": 47,
      "outputs": [
        {
          "output_type": "execute_result",
          "data": {
            "text/html": [
              "<div>\n",
              "<style scoped>\n",
              "    .dataframe tbody tr th:only-of-type {\n",
              "        vertical-align: middle;\n",
              "    }\n",
              "\n",
              "    .dataframe tbody tr th {\n",
              "        vertical-align: top;\n",
              "    }\n",
              "\n",
              "    .dataframe thead th {\n",
              "        text-align: right;\n",
              "    }\n",
              "</style>\n",
              "<table border=\"1\" class=\"dataframe\">\n",
              "  <thead>\n",
              "    <tr style=\"text-align: right;\">\n",
              "      <th></th>\n",
              "      <th>year</th>\n",
              "      <th>mo</th>\n",
              "      <th>extent</th>\n",
              "      <th>area</th>\n",
              "    </tr>\n",
              "  </thead>\n",
              "  <tbody>\n",
              "    <tr>\n",
              "      <th>count</th>\n",
              "      <td>422.000000</td>\n",
              "      <td>422.000000</td>\n",
              "      <td>422.000000</td>\n",
              "      <td>422.000000</td>\n",
              "    </tr>\n",
              "    <tr>\n",
              "      <th>mean</th>\n",
              "      <td>1996.040284</td>\n",
              "      <td>6.500000</td>\n",
              "      <td>11.777583</td>\n",
              "      <td>9.287796</td>\n",
              "    </tr>\n",
              "    <tr>\n",
              "      <th>std</th>\n",
              "      <td>10.222038</td>\n",
              "      <td>3.461872</td>\n",
              "      <td>3.120722</td>\n",
              "      <td>3.180044</td>\n",
              "    </tr>\n",
              "    <tr>\n",
              "      <th>min</th>\n",
              "      <td>1978.000000</td>\n",
              "      <td>1.000000</td>\n",
              "      <td>3.630000</td>\n",
              "      <td>2.150000</td>\n",
              "    </tr>\n",
              "    <tr>\n",
              "      <th>25%</th>\n",
              "      <td>1987.000000</td>\n",
              "      <td>3.250000</td>\n",
              "      <td>9.360000</td>\n",
              "      <td>6.382500</td>\n",
              "    </tr>\n",
              "    <tr>\n",
              "      <th>50%</th>\n",
              "      <td>1996.000000</td>\n",
              "      <td>6.500000</td>\n",
              "      <td>12.395000</td>\n",
              "      <td>9.990000</td>\n",
              "    </tr>\n",
              "    <tr>\n",
              "      <th>75%</th>\n",
              "      <td>2005.000000</td>\n",
              "      <td>9.750000</td>\n",
              "      <td>14.560000</td>\n",
              "      <td>12.227500</td>\n",
              "    </tr>\n",
              "    <tr>\n",
              "      <th>max</th>\n",
              "      <td>2014.000000</td>\n",
              "      <td>12.000000</td>\n",
              "      <td>16.450000</td>\n",
              "      <td>13.840000</td>\n",
              "    </tr>\n",
              "  </tbody>\n",
              "</table>\n",
              "</div>"
            ],
            "text/plain": [
              "              year          mo      extent        area\n",
              "count   422.000000  422.000000  422.000000  422.000000\n",
              "mean   1996.040284    6.500000   11.777583    9.287796\n",
              "std      10.222038    3.461872    3.120722    3.180044\n",
              "min    1978.000000    1.000000    3.630000    2.150000\n",
              "25%    1987.000000    3.250000    9.360000    6.382500\n",
              "50%    1996.000000    6.500000   12.395000    9.990000\n",
              "75%    2005.000000    9.750000   14.560000   12.227500\n",
              "max    2014.000000   12.000000   16.450000   13.840000"
            ]
          },
          "metadata": {
            "tags": []
          },
          "execution_count": 47
        }
      ]
    },
    {
      "cell_type": "markdown",
      "metadata": {
        "id": "dPy9qZvUKryT"
      },
      "source": [
        "data_type and region are categorical features "
      ]
    },
    {
      "cell_type": "code",
      "metadata": {
        "id": "GH_aey03vv0a"
      },
      "source": [
        "import matplotlib.pyplot as plt\n",
        "import seaborn as sns"
      ],
      "execution_count": 49,
      "outputs": []
    },
    {
      "cell_type": "code",
      "metadata": {
        "colab": {
          "base_uri": "https://localhost:8080/",
          "height": 279
        },
        "id": "6-x5MS8vMMpw",
        "outputId": "ac931998-f25c-4b9b-9778-26f73c5053e6"
      },
      "source": [
        "x1 = sns.countplot(df['region'])\n",
        "plt.show(x1)"
      ],
      "execution_count": 54,
      "outputs": [
        {
          "output_type": "display_data",
          "data": {
            "image/png": "[encoded data removed]",
            "text/plain": [
              "<Figure size 432x288 with 1 Axes>"
            ]
          },
          "metadata": {
            "tags": [],
            "needs_background": "light"
          }
        }
      ]
    },
    {
      "cell_type": "code",
      "metadata": {
        "colab": {
          "base_uri": "https://localhost:8080/",
          "height": 280
        },
        "id": "xkqnvnhLvw41",
        "outputId": "ddcf70ed-5205-4277-c51f-34a58860c1fd"
      },
      "source": [
        "x = sns.countplot(df['data_type'])\n",
        "plt.show(x)"
      ],
      "execution_count": 53,
      "outputs": [
        {
          "output_type": "display_data",
          "data": {
            "image/png": "[encoded data removed]",
            "text/plain": [
              "<Figure size 432x288 with 1 Axes>"
            ]
          },
          "metadata": {
            "tags": [],
            "needs_background": "light"
          }
        }
      ]
    },
    {
      "cell_type": "code",
      "metadata": {
        "colab": {
          "base_uri": "https://localhost:8080/",
          "height": 287
        },
        "id": "z-FGuyAhWJJo",
        "outputId": "17fea71a-fe2f-4acc-bdc3-c5b34326b931"
      },
      "source": [
        "e=df['extent']\n",
        "e.hist(density=0, histtype='stepfilled', bins=30)"
      ],
      "execution_count": 82,
      "outputs": [
        {
          "output_type": "execute_result",
          "data": {
            "text/plain": [
              "<matplotlib.axes._subplots.AxesSubplot at 0x7fca6d301438>"
            ]
          },
          "metadata": {
            "tags": []
          },
          "execution_count": 82
        },
        {
          "output_type": "display_data",
          "data": {
            "image/png": "[encoded data removed]",
            "text/plain": [
              "<Figure size 432x288 with 1 Axes>"
            ]
          },
          "metadata": {
            "tags": [],
            "needs_background": "light"
          }
        }
      ]
    },
    {
      "cell_type": "code",
      "metadata": {
        "colab": {
          "base_uri": "https://localhost:8080/",
          "height": 287
        },
        "id": "cx_W9XFlYfkq",
        "outputId": "53677a3f-fac4-468d-b3c7-401c56f27f52"
      },
      "source": [
        "e.hist(density=1, histtype='stepfilled', bins=30)"
      ],
      "execution_count": 81,
      "outputs": [
        {
          "output_type": "execute_result",
          "data": {
            "text/plain": [
              "<matplotlib.axes._subplots.AxesSubplot at 0x7fca6d31a0b8>"
            ]
          },
          "metadata": {
            "tags": []
          },
          "execution_count": 81
        },
        {
          "output_type": "display_data",
          "data": {
            "image/png": "[encoded data removed]",
            "text/plain": [
              "<Figure size 432x288 with 1 Axes>"
            ]
          },
          "metadata": {
            "tags": [],
            "needs_background": "light"
          }
        }
      ]
    },
    {
      "cell_type": "code",
      "metadata": {
        "colab": {
          "base_uri": "https://localhost:8080/",
          "height": 287
        },
        "id": "T1q_RK03VXlN",
        "outputId": "4d3a89db-15b8-4f79-ffec-20fa9bfa1087"
      },
      "source": [
        "a=df['area']\n",
        "a.hist(density=0, histtype='stepfilled', bins=30) "
      ],
      "execution_count": 74,
      "outputs": [
        {
          "output_type": "execute_result",
          "data": {
            "text/plain": [
              "<matplotlib.axes._subplots.AxesSubplot at 0x7fca6d4ffb00>"
            ]
          },
          "metadata": {
            "tags": []
          },
          "execution_count": 74
        },
        {
          "output_type": "display_data",
          "data": {
            "image/png": "[encoded data removed]",
            "text/plain": [
              "<Figure size 432x288 with 1 Axes>"
            ]
          },
          "metadata": {
            "tags": [],
            "needs_background": "light"
          }
        }
      ]
    },
    {
      "cell_type": "code",
      "metadata": {
        "colab": {
          "base_uri": "https://localhost:8080/",
          "height": 287
        },
        "id": "UDBS8OL1YAc6",
        "outputId": "dc682509-cb78-40ba-c721-c2b9ec80d2c5"
      },
      "source": [
        "a.hist(density=1, histtype='stepfilled', bins=30) # density = 1 for normalized histogram"
      ],
      "execution_count": 83,
      "outputs": [
        {
          "output_type": "execute_result",
          "data": {
            "text/plain": [
              "<matplotlib.axes._subplots.AxesSubplot at 0x7fca6d438588>"
            ]
          },
          "metadata": {
            "tags": []
          },
          "execution_count": 83
        },
        {
          "output_type": "display_data",
          "data": {
            "image/png": "[encoded data removed]",
            "text/plain": [
              "<Figure size 432x288 with 1 Axes>"
            ]
          },
          "metadata": {
            "tags": [],
            "needs_background": "light"
          }
        }
      ]
    },
    {
      "cell_type": "markdown",
      "metadata": {
        "id": "rahyY160T9Pc"
      },
      "source": [
        "#### Outliers"
      ]
    },
    {
      "cell_type": "code",
      "metadata": {
        "colab": {
          "base_uri": "https://localhost:8080/",
          "height": 541
        },
        "id": "00D_yHwRNjYN",
        "outputId": "d4183bc6-4c3a-47c1-e03f-af493d057c12"
      },
      "source": [
        "# Skew - asymmetry\n",
        "for feat in features:\n",
        "    skew = df[feat].skew()\n",
        "    sns.histplot(df[feat], kde= False, label='Skew = %.3f' %(skew), bins=30)\n",
        "    plt.legend(loc='best')\n",
        "    plt.show()"
      ],
      "execution_count": 63,
      "outputs": [
        {
          "output_type": "display_data",
          "data": {
            "image/png": "[encoded data removed]",
            "text/plain": [
              "<Figure size 432x288 with 1 Axes>"
            ]
          },
          "metadata": {
            "tags": [],
            "needs_background": "light"
          }
        },
        {
          "output_type": "display_data",
          "data": {
            "image/png": "[encoded data removed]",
            "text/plain": [
              "<Figure size 432x288 with 1 Axes>"
            ]
          },
          "metadata": {
            "tags": [],
            "needs_background": "light"
          }
        }
      ]
    },
    {
      "cell_type": "code",
      "metadata": {
        "colab": {
          "base_uri": "https://localhost:8080/"
        },
        "id": "FRjsz35EN7im",
        "outputId": "57e4ce86-d1b4-44db-bff2-9ef0584b4716"
      },
      "source": [
        "features = df.columns[-2:]\n",
        "features"
      ],
      "execution_count": 61,
      "outputs": [
        {
          "output_type": "execute_result",
          "data": {
            "text/plain": [
              "Index(['extent', 'area'], dtype='object')"
            ]
          },
          "metadata": {
            "tags": []
          },
          "execution_count": 61
        }
      ]
    },
    {
      "cell_type": "markdown",
      "metadata": {
        "id": "Gx4efdS1Rglw"
      },
      "source": [
        "Tukey method (Tukey JW., 1977) to detect ouliers which defines an interquartile range comprised between the 1st and 3rd quartile of the distribution values (IQR). An outlier is a row that have a feature value outside the (IQR +- an outlier step)."
      ]
    },
    {
      "cell_type": "code",
      "metadata": {
        "id": "kIclzoR_RcCZ"
      },
      "source": [
        "# Detect observations with more than one outlier\n",
        "# Tukey Method\n",
        "from collections import Counter\n",
        "\n",
        "def outlier_hunt(dataframe):\n",
        "    \"\"\"\n",
        "    Takes a dataframe df of features and returns a list of the indices\n",
        "    corresponding to the observations containing more than 2 outliers. \n",
        "    \"\"\"\n",
        "    outlier_indices = []\n",
        "    \n",
        "    # iterate over features(columns)\n",
        "    for col in dataframe.columns.tolist():\n",
        "        \n",
        "        # 1st quartile (25%)\n",
        "        Q1 = np.percentile(dataframe[col], 25)\n",
        "        \n",
        "        # 3rd quartile (75%)\n",
        "        Q3 = np.percentile(dataframe[col],75)\n",
        "        \n",
        "        # Interquartile rrange (IQR)\n",
        "        IQR = Q3 - Q1\n",
        "        \n",
        "        # outlier step\n",
        "        outlier_step = 1.5 * IQR\n",
        "        \n",
        "        # Determine a list of indices of outliers for feature col\n",
        "        outlier_list_col = dataframe[(dataframe[col] < Q1 - outlier_step) | (dataframe[col] > Q3 + outlier_step )].index\n",
        "        \n",
        "        # append the found outlier indices for col to the list of outlier indices \n",
        "        outlier_indices.extend(outlier_list_col)\n",
        "        \n",
        "    # select observations containing more than 2 outliers\n",
        "    outlier_indices = Counter(outlier_indices)        \n",
        "    multiple_outliers = list( k for k, v in outlier_indices.items() if v > 2 )\n",
        "    \n",
        "    return multiple_outliers   "
      ],
      "execution_count": 70,
      "outputs": []
    },
    {
      "cell_type": "code",
      "metadata": {
        "colab": {
          "base_uri": "https://localhost:8080/"
        },
        "id": "ESMpHYbSSicE",
        "outputId": "eac7a767-d598-44b9-a9b8-4d8f84bfba06"
      },
      "source": [
        "print('The dataset contains %d observations with more than 2 outliers' %(len(outlier_hunt(df[features]))))   "
      ],
      "execution_count": 72,
      "outputs": [
        {
          "output_type": "stream",
          "text": [
            "The dataset contains 0 observations with more than 2 outliers\n"
          ],
          "name": "stdout"
        }
      ]
    },
    {
      "cell_type": "markdown",
      "metadata": {
        "id": "pW5r45q7g0HO"
      },
      "source": [
        "### 2. Normalize the SIE data and visualize its temporal trend.\n",
        "\n",
        "Visualize there is a monthly dependence of SIE, explore the linear relationship using ``lmplot``.\n",
        "Compute the mean and variance of SIE for each month."
      ]
    },
    {
      "cell_type": "code",
      "metadata": {
        "id": "XW8SnKxIg0HO"
      },
      "source": [
        "#df_sorted = df.sort_values(['year', 'mo'])\n",
        "#df_sorted.head(20)"
      ],
      "execution_count": null,
      "outputs": []
    },
    {
      "cell_type": "code",
      "metadata": {
        "colab": {
          "base_uri": "https://localhost:8080/",
          "height": 398
        },
        "id": "Uhb4gcTtclUq",
        "outputId": "59732b31-fc29-4c8d-bf29-e3935af771bc"
      },
      "source": [
        "g = sns.lmplot(x=\"mo\", y=\"extent\", data=df, order=4, height=5.2, aspect=2)"
      ],
      "execution_count": 106,
      "outputs": [
        {
          "output_type": "display_data",
          "data": {
            "image/png": "[encoded data removed]",
            "text/plain": [
              "<Figure size 748.8x374.4 with 1 Axes>"
            ]
          },
          "metadata": {
            "tags": [],
            "needs_background": "light"
          }
        }
      ]
    },
    {
      "cell_type": "code",
      "metadata": {
        "colab": {
          "base_uri": "https://localhost:8080/",
          "height": 452
        },
        "id": "aqTAYymBroDK",
        "outputId": "0e1ab596-61be-4811-a615-c9837aed68dc"
      },
      "source": [
        "df.groupby('mo').mean()"
      ],
      "execution_count": 110,
      "outputs": [
        {
          "output_type": "execute_result",
          "data": {
            "text/html": [
              "<div>\n",
              "<style scoped>\n",
              "    .dataframe tbody tr th:only-of-type {\n",
              "        vertical-align: middle;\n",
              "    }\n",
              "\n",
              "    .dataframe tbody tr th {\n",
              "        vertical-align: top;\n",
              "    }\n",
              "\n",
              "    .dataframe thead th {\n",
              "        text-align: right;\n",
              "    }\n",
              "</style>\n",
              "<table border=\"1\" class=\"dataframe\">\n",
              "  <thead>\n",
              "    <tr style=\"text-align: right;\">\n",
              "      <th></th>\n",
              "      <th>year</th>\n",
              "      <th>extent</th>\n",
              "      <th>area</th>\n",
              "    </tr>\n",
              "    <tr>\n",
              "      <th>mo</th>\n",
              "      <th></th>\n",
              "      <th></th>\n",
              "      <th></th>\n",
              "    </tr>\n",
              "  </thead>\n",
              "  <tbody>\n",
              "    <tr>\n",
              "      <th>1</th>\n",
              "      <td>1996.742857</td>\n",
              "      <td>14.479429</td>\n",
              "      <td>12.118571</td>\n",
              "    </tr>\n",
              "    <tr>\n",
              "      <th>2</th>\n",
              "      <td>1996.500000</td>\n",
              "      <td>15.298889</td>\n",
              "      <td>12.920833</td>\n",
              "    </tr>\n",
              "    <tr>\n",
              "      <th>3</th>\n",
              "      <td>1996.000000</td>\n",
              "      <td>15.491714</td>\n",
              "      <td>13.076857</td>\n",
              "    </tr>\n",
              "    <tr>\n",
              "      <th>4</th>\n",
              "      <td>1996.000000</td>\n",
              "      <td>14.766000</td>\n",
              "      <td>12.426286</td>\n",
              "    </tr>\n",
              "    <tr>\n",
              "      <th>5</th>\n",
              "      <td>1996.000000</td>\n",
              "      <td>13.396000</td>\n",
              "      <td>11.013714</td>\n",
              "    </tr>\n",
              "    <tr>\n",
              "      <th>6</th>\n",
              "      <td>1996.000000</td>\n",
              "      <td>11.860000</td>\n",
              "      <td>9.015143</td>\n",
              "    </tr>\n",
              "    <tr>\n",
              "      <th>7</th>\n",
              "      <td>1996.000000</td>\n",
              "      <td>9.601143</td>\n",
              "      <td>6.237714</td>\n",
              "    </tr>\n",
              "    <tr>\n",
              "      <th>8</th>\n",
              "      <td>1996.000000</td>\n",
              "      <td>7.122286</td>\n",
              "      <td>4.530571</td>\n",
              "    </tr>\n",
              "    <tr>\n",
              "      <th>9</th>\n",
              "      <td>1996.000000</td>\n",
              "      <td>6.404857</td>\n",
              "      <td>4.246286</td>\n",
              "    </tr>\n",
              "    <tr>\n",
              "      <th>10</th>\n",
              "      <td>1996.000000</td>\n",
              "      <td>8.809143</td>\n",
              "      <td>6.236857</td>\n",
              "    </tr>\n",
              "    <tr>\n",
              "      <th>11</th>\n",
              "      <td>1995.500000</td>\n",
              "      <td>10.964722</td>\n",
              "      <td>8.785833</td>\n",
              "    </tr>\n",
              "    <tr>\n",
              "      <th>12</th>\n",
              "      <td>1995.742857</td>\n",
              "      <td>13.059429</td>\n",
              "      <td>10.755429</td>\n",
              "    </tr>\n",
              "  </tbody>\n",
              "</table>\n",
              "</div>"
            ],
            "text/plain": [
              "           year     extent       area\n",
              "mo                                   \n",
              "1   1996.742857  14.479429  12.118571\n",
              "2   1996.500000  15.298889  12.920833\n",
              "3   1996.000000  15.491714  13.076857\n",
              "4   1996.000000  14.766000  12.426286\n",
              "5   1996.000000  13.396000  11.013714\n",
              "6   1996.000000  11.860000   9.015143\n",
              "7   1996.000000   9.601143   6.237714\n",
              "8   1996.000000   7.122286   4.530571\n",
              "9   1996.000000   6.404857   4.246286\n",
              "10  1996.000000   8.809143   6.236857\n",
              "11  1995.500000  10.964722   8.785833\n",
              "12  1995.742857  13.059429  10.755429"
            ]
          },
          "metadata": {
            "tags": []
          },
          "execution_count": 110
        }
      ]
    },
    {
      "cell_type": "code",
      "metadata": {
        "colab": {
          "base_uri": "https://localhost:8080/",
          "height": 452
        },
        "id": "Px6uPNajd0pS",
        "outputId": "ad19c3c8-fc57-4ab4-a212-dd36570dc388"
      },
      "source": [
        "SIE_mean = df.groupby('mo').mean()\n",
        "del SIE_mean['year']\n",
        "SIE_mean"
      ],
      "execution_count": 114,
      "outputs": [
        {
          "output_type": "execute_result",
          "data": {
            "text/html": [
              "<div>\n",
              "<style scoped>\n",
              "    .dataframe tbody tr th:only-of-type {\n",
              "        vertical-align: middle;\n",
              "    }\n",
              "\n",
              "    .dataframe tbody tr th {\n",
              "        vertical-align: top;\n",
              "    }\n",
              "\n",
              "    .dataframe thead th {\n",
              "        text-align: right;\n",
              "    }\n",
              "</style>\n",
              "<table border=\"1\" class=\"dataframe\">\n",
              "  <thead>\n",
              "    <tr style=\"text-align: right;\">\n",
              "      <th></th>\n",
              "      <th>extent</th>\n",
              "      <th>area</th>\n",
              "    </tr>\n",
              "    <tr>\n",
              "      <th>mo</th>\n",
              "      <th></th>\n",
              "      <th></th>\n",
              "    </tr>\n",
              "  </thead>\n",
              "  <tbody>\n",
              "    <tr>\n",
              "      <th>1</th>\n",
              "      <td>14.479429</td>\n",
              "      <td>12.118571</td>\n",
              "    </tr>\n",
              "    <tr>\n",
              "      <th>2</th>\n",
              "      <td>15.298889</td>\n",
              "      <td>12.920833</td>\n",
              "    </tr>\n",
              "    <tr>\n",
              "      <th>3</th>\n",
              "      <td>15.491714</td>\n",
              "      <td>13.076857</td>\n",
              "    </tr>\n",
              "    <tr>\n",
              "      <th>4</th>\n",
              "      <td>14.766000</td>\n",
              "      <td>12.426286</td>\n",
              "    </tr>\n",
              "    <tr>\n",
              "      <th>5</th>\n",
              "      <td>13.396000</td>\n",
              "      <td>11.013714</td>\n",
              "    </tr>\n",
              "    <tr>\n",
              "      <th>6</th>\n",
              "      <td>11.860000</td>\n",
              "      <td>9.015143</td>\n",
              "    </tr>\n",
              "    <tr>\n",
              "      <th>7</th>\n",
              "      <td>9.601143</td>\n",
              "      <td>6.237714</td>\n",
              "    </tr>\n",
              "    <tr>\n",
              "      <th>8</th>\n",
              "      <td>7.122286</td>\n",
              "      <td>4.530571</td>\n",
              "    </tr>\n",
              "    <tr>\n",
              "      <th>9</th>\n",
              "      <td>6.404857</td>\n",
              "      <td>4.246286</td>\n",
              "    </tr>\n",
              "    <tr>\n",
              "      <th>10</th>\n",
              "      <td>8.809143</td>\n",
              "      <td>6.236857</td>\n",
              "    </tr>\n",
              "    <tr>\n",
              "      <th>11</th>\n",
              "      <td>10.964722</td>\n",
              "      <td>8.785833</td>\n",
              "    </tr>\n",
              "    <tr>\n",
              "      <th>12</th>\n",
              "      <td>13.059429</td>\n",
              "      <td>10.755429</td>\n",
              "    </tr>\n",
              "  </tbody>\n",
              "</table>\n",
              "</div>"
            ],
            "text/plain": [
              "       extent       area\n",
              "mo                      \n",
              "1   14.479429  12.118571\n",
              "2   15.298889  12.920833\n",
              "3   15.491714  13.076857\n",
              "4   14.766000  12.426286\n",
              "5   13.396000  11.013714\n",
              "6   11.860000   9.015143\n",
              "7    9.601143   6.237714\n",
              "8    7.122286   4.530571\n",
              "9    6.404857   4.246286\n",
              "10   8.809143   6.236857\n",
              "11  10.964722   8.785833\n",
              "12  13.059429  10.755429"
            ]
          },
          "metadata": {
            "tags": []
          },
          "execution_count": 114
        }
      ]
    },
    {
      "cell_type": "code",
      "metadata": {
        "colab": {
          "base_uri": "https://localhost:8080/"
        },
        "id": "52waW1BbsbnW",
        "outputId": "f40d37c1-159d-4da4-f2ed-70b46524ad5f"
      },
      "source": [
        "SIE_mean['extent'].iloc[0]"
      ],
      "execution_count": 212,
      "outputs": [
        {
          "output_type": "execute_result",
          "data": {
            "text/plain": [
              "14.479428571428572"
            ]
          },
          "metadata": {
            "tags": []
          },
          "execution_count": 212
        }
      ]
    },
    {
      "cell_type": "code",
      "metadata": {
        "colab": {
          "base_uri": "https://localhost:8080/",
          "height": 452
        },
        "id": "fW75GcCjgr6o",
        "outputId": "90f98513-4886-44e2-db15-905c3dab6040"
      },
      "source": [
        "SIE_var = df.groupby('mo').var()\n",
        "del SIE_var['year']\n",
        "SIE_var"
      ],
      "execution_count": 116,
      "outputs": [
        {
          "output_type": "execute_result",
          "data": {
            "text/html": [
              "<div>\n",
              "<style scoped>\n",
              "    .dataframe tbody tr th:only-of-type {\n",
              "        vertical-align: middle;\n",
              "    }\n",
              "\n",
              "    .dataframe tbody tr th {\n",
              "        vertical-align: top;\n",
              "    }\n",
              "\n",
              "    .dataframe thead th {\n",
              "        text-align: right;\n",
              "    }\n",
              "</style>\n",
              "<table border=\"1\" class=\"dataframe\">\n",
              "  <thead>\n",
              "    <tr style=\"text-align: right;\">\n",
              "      <th></th>\n",
              "      <th>extent</th>\n",
              "      <th>area</th>\n",
              "    </tr>\n",
              "    <tr>\n",
              "      <th>mo</th>\n",
              "      <th></th>\n",
              "      <th></th>\n",
              "    </tr>\n",
              "  </thead>\n",
              "  <tbody>\n",
              "    <tr>\n",
              "      <th>1</th>\n",
              "      <td>0.304906</td>\n",
              "      <td>0.187330</td>\n",
              "    </tr>\n",
              "    <tr>\n",
              "      <th>2</th>\n",
              "      <td>0.295804</td>\n",
              "      <td>0.193191</td>\n",
              "    </tr>\n",
              "    <tr>\n",
              "      <th>3</th>\n",
              "      <td>0.237209</td>\n",
              "      <td>0.140269</td>\n",
              "    </tr>\n",
              "    <tr>\n",
              "      <th>4</th>\n",
              "      <td>0.215378</td>\n",
              "      <td>0.109648</td>\n",
              "    </tr>\n",
              "    <tr>\n",
              "      <th>5</th>\n",
              "      <td>0.189901</td>\n",
              "      <td>0.097942</td>\n",
              "    </tr>\n",
              "    <tr>\n",
              "      <th>6</th>\n",
              "      <td>0.247918</td>\n",
              "      <td>0.255561</td>\n",
              "    </tr>\n",
              "    <tr>\n",
              "      <th>7</th>\n",
              "      <td>0.679175</td>\n",
              "      <td>0.393130</td>\n",
              "    </tr>\n",
              "    <tr>\n",
              "      <th>8</th>\n",
              "      <td>0.824577</td>\n",
              "      <td>0.515723</td>\n",
              "    </tr>\n",
              "    <tr>\n",
              "      <th>9</th>\n",
              "      <td>1.143902</td>\n",
              "      <td>0.622165</td>\n",
              "    </tr>\n",
              "    <tr>\n",
              "      <th>10</th>\n",
              "      <td>0.630361</td>\n",
              "      <td>0.755910</td>\n",
              "    </tr>\n",
              "    <tr>\n",
              "      <th>11</th>\n",
              "      <td>0.412511</td>\n",
              "      <td>0.304916</td>\n",
              "    </tr>\n",
              "    <tr>\n",
              "      <th>12</th>\n",
              "      <td>0.284870</td>\n",
              "      <td>0.238084</td>\n",
              "    </tr>\n",
              "  </tbody>\n",
              "</table>\n",
              "</div>"
            ],
            "text/plain": [
              "      extent      area\n",
              "mo                    \n",
              "1   0.304906  0.187330\n",
              "2   0.295804  0.193191\n",
              "3   0.237209  0.140269\n",
              "4   0.215378  0.109648\n",
              "5   0.189901  0.097942\n",
              "6   0.247918  0.255561\n",
              "7   0.679175  0.393130\n",
              "8   0.824577  0.515723\n",
              "9   1.143902  0.622165\n",
              "10  0.630361  0.755910\n",
              "11  0.412511  0.304916\n",
              "12  0.284870  0.238084"
            ]
          },
          "metadata": {
            "tags": []
          },
          "execution_count": 116
        }
      ]
    },
    {
      "cell_type": "markdown",
      "metadata": {
        "id": "4VD5WX4lg0HP"
      },
      "source": [
        "Normalize the SIE data: subtract the monthly mean and then convert to percent \n",
        "\n",
        "\n",
        "difference by dividing by the monthly mean and then multiplying by 100. Use the normalized SIE for the rest of the exercise."
      ]
    },
    {
      "cell_type": "code",
      "metadata": {
        "colab": {
          "base_uri": "https://localhost:8080/"
        },
        "id": "UmwJuH1GxYoa",
        "outputId": "15cacd64-2f05-4dfc-ed08-c4bf5a217b43"
      },
      "source": [
        "features"
      ],
      "execution_count": 147,
      "outputs": [
        {
          "output_type": "execute_result",
          "data": {
            "text/plain": [
              "Index(['extent', 'area'], dtype='object')"
            ]
          },
          "metadata": {
            "tags": []
          },
          "execution_count": 147
        }
      ]
    },
    {
      "cell_type": "code",
      "metadata": {
        "colab": {
          "base_uri": "https://localhost:8080/"
        },
        "id": "v-slwkzwxq7m",
        "outputId": "6b64f276-bdf3-4526-e6dc-f3e2f7829724"
      },
      "source": [
        "months = [1,2,3,4,5,6,7,8,9,10,11,12]\n",
        "months"
      ],
      "execution_count": 150,
      "outputs": [
        {
          "output_type": "execute_result",
          "data": {
            "text/plain": [
              "[1, 2, 3, 4, 5, 6, 7, 8, 9, 10, 11, 12]"
            ]
          },
          "metadata": {
            "tags": []
          },
          "execution_count": 150
        }
      ]
    },
    {
      "cell_type": "code",
      "metadata": {
        "colab": {
          "base_uri": "https://localhost:8080/"
        },
        "id": "Qb7C4OpizyUm",
        "outputId": "5b3d5c51-052a-428b-abc4-51471fd656fc"
      },
      "source": [
        "df_norm = df.copy()\n",
        "df_norm.info"
      ],
      "execution_count": 219,
      "outputs": [
        {
          "output_type": "execute_result",
          "data": {
            "text/plain": [
              "<bound method DataFrame.info of      year  mo data_type region  extent   area\n",
              "0    1979   1   Goddard      N   15.54  12.33\n",
              "1    1980   1   Goddard      N   14.96  11.85\n",
              "2    1981   1   Goddard      N   15.03  11.82\n",
              "3    1982   1   Goddard      N   15.26  12.11\n",
              "4    1983   1   Goddard      N   15.10  11.92\n",
              "..    ...  ..       ...    ...     ...    ...\n",
              "419  2009  12   Goddard      N   12.51  10.25\n",
              "420  2010  12   Goddard      N   12.02  10.08\n",
              "421  2011  12   Goddard      N   12.40  10.28\n",
              "422  2012  12   Goddard      N   12.20  10.11\n",
              "423  2013  12   NRTSI-G      N   12.38  10.48\n",
              "\n",
              "[422 rows x 6 columns]>"
            ]
          },
          "metadata": {
            "tags": []
          },
          "execution_count": 219
        }
      ]
    },
    {
      "cell_type": "code",
      "metadata": {
        "id": "WS8O7jGwg0HP"
      },
      "source": [
        "for month in range(1,13):\n",
        "    df_norm['extent'][(df_norm['mo']==month)] = df_norm['extent'][(df_norm['mo']==month)]/SIE_mean['extent'].iloc[month-1]*100\n",
        "    df_norm['area'][(df_norm['mo']==month)] = df_norm['area'][(df_norm['mo']==month)]/SIE_mean['area'].iloc[month-1]*100"
      ],
      "execution_count": 220,
      "outputs": []
    },
    {
      "cell_type": "code",
      "metadata": {
        "colab": {
          "base_uri": "https://localhost:8080/",
          "height": 1000
        },
        "id": "xcLC3H3b11Ni",
        "outputId": "48e0b56d-da9a-4fe4-f2aa-be5e17c003a2"
      },
      "source": [
        "df_norm[(df_norm['mo']==12)]"
      ],
      "execution_count": 221,
      "outputs": [
        {
          "output_type": "execute_result",
          "data": {
            "text/html": [
              "<div>\n",
              "<style scoped>\n",
              "    .dataframe tbody tr th:only-of-type {\n",
              "        vertical-align: middle;\n",
              "    }\n",
              "\n",
              "    .dataframe tbody tr th {\n",
              "        vertical-align: top;\n",
              "    }\n",
              "\n",
              "    .dataframe thead th {\n",
              "        text-align: right;\n",
              "    }\n",
              "</style>\n",
              "<table border=\"1\" class=\"dataframe\">\n",
              "  <thead>\n",
              "    <tr style=\"text-align: right;\">\n",
              "      <th></th>\n",
              "      <th>year</th>\n",
              "      <th>mo</th>\n",
              "      <th>data_type</th>\n",
              "      <th>region</th>\n",
              "      <th>extent</th>\n",
              "      <th>area</th>\n",
              "    </tr>\n",
              "  </thead>\n",
              "  <tbody>\n",
              "    <tr>\n",
              "      <th>388</th>\n",
              "      <td>1978</td>\n",
              "      <td>12</td>\n",
              "      <td>Goddard</td>\n",
              "      <td>N</td>\n",
              "      <td>108.121117</td>\n",
              "      <td>100.879290</td>\n",
              "    </tr>\n",
              "    <tr>\n",
              "      <th>389</th>\n",
              "      <td>1979</td>\n",
              "      <td>12</td>\n",
              "      <td>Goddard</td>\n",
              "      <td>N</td>\n",
              "      <td>103.679881</td>\n",
              "      <td>98.090001</td>\n",
              "    </tr>\n",
              "    <tr>\n",
              "      <th>390</th>\n",
              "      <td>1980</td>\n",
              "      <td>12</td>\n",
              "      <td>Goddard</td>\n",
              "      <td>N</td>\n",
              "      <td>105.058196</td>\n",
              "      <td>99.577622</td>\n",
              "    </tr>\n",
              "    <tr>\n",
              "      <th>391</th>\n",
              "      <td>1981</td>\n",
              "      <td>12</td>\n",
              "      <td>Goddard</td>\n",
              "      <td>N</td>\n",
              "      <td>105.211342</td>\n",
              "      <td>97.346191</td>\n",
              "    </tr>\n",
              "    <tr>\n",
              "      <th>392</th>\n",
              "      <td>1982</td>\n",
              "      <td>12</td>\n",
              "      <td>Goddard</td>\n",
              "      <td>N</td>\n",
              "      <td>105.900499</td>\n",
              "      <td>100.507385</td>\n",
              "    </tr>\n",
              "    <tr>\n",
              "      <th>393</th>\n",
              "      <td>1983</td>\n",
              "      <td>12</td>\n",
              "      <td>Goddard</td>\n",
              "      <td>N</td>\n",
              "      <td>102.914151</td>\n",
              "      <td>98.182977</td>\n",
              "    </tr>\n",
              "    <tr>\n",
              "      <th>394</th>\n",
              "      <td>1984</td>\n",
              "      <td>12</td>\n",
              "      <td>Goddard</td>\n",
              "      <td>N</td>\n",
              "      <td>100.923252</td>\n",
              "      <td>94.742854</td>\n",
              "    </tr>\n",
              "    <tr>\n",
              "      <th>395</th>\n",
              "      <td>1985</td>\n",
              "      <td>12</td>\n",
              "      <td>Goddard</td>\n",
              "      <td>N</td>\n",
              "      <td>100.999825</td>\n",
              "      <td>94.370949</td>\n",
              "    </tr>\n",
              "    <tr>\n",
              "      <th>396</th>\n",
              "      <td>1986</td>\n",
              "      <td>12</td>\n",
              "      <td>Goddard</td>\n",
              "      <td>N</td>\n",
              "      <td>102.607859</td>\n",
              "      <td>97.253214</td>\n",
              "    </tr>\n",
              "    <tr>\n",
              "      <th>398</th>\n",
              "      <td>1988</td>\n",
              "      <td>12</td>\n",
              "      <td>Goddard</td>\n",
              "      <td>N</td>\n",
              "      <td>105.517634</td>\n",
              "      <td>111.013707</td>\n",
              "    </tr>\n",
              "    <tr>\n",
              "      <th>399</th>\n",
              "      <td>1989</td>\n",
              "      <td>12</td>\n",
              "      <td>Goddard</td>\n",
              "      <td>N</td>\n",
              "      <td>103.143870</td>\n",
              "      <td>107.201679</td>\n",
              "    </tr>\n",
              "    <tr>\n",
              "      <th>400</th>\n",
              "      <td>1990</td>\n",
              "      <td>12</td>\n",
              "      <td>Goddard</td>\n",
              "      <td>N</td>\n",
              "      <td>101.612409</td>\n",
              "      <td>105.992987</td>\n",
              "    </tr>\n",
              "    <tr>\n",
              "      <th>401</th>\n",
              "      <td>1991</td>\n",
              "      <td>12</td>\n",
              "      <td>Goddard</td>\n",
              "      <td>N</td>\n",
              "      <td>100.846679</td>\n",
              "      <td>104.040485</td>\n",
              "    </tr>\n",
              "    <tr>\n",
              "      <th>402</th>\n",
              "      <td>1992</td>\n",
              "      <td>12</td>\n",
              "      <td>Goddard</td>\n",
              "      <td>N</td>\n",
              "      <td>103.067297</td>\n",
              "      <td>108.410371</td>\n",
              "    </tr>\n",
              "    <tr>\n",
              "      <th>403</th>\n",
              "      <td>1993</td>\n",
              "      <td>12</td>\n",
              "      <td>Goddard</td>\n",
              "      <td>N</td>\n",
              "      <td>103.526735</td>\n",
              "      <td>106.085963</td>\n",
              "    </tr>\n",
              "    <tr>\n",
              "      <th>404</th>\n",
              "      <td>1994</td>\n",
              "      <td>12</td>\n",
              "      <td>Goddard</td>\n",
              "      <td>N</td>\n",
              "      <td>103.603308</td>\n",
              "      <td>106.271916</td>\n",
              "    </tr>\n",
              "    <tr>\n",
              "      <th>405</th>\n",
              "      <td>1995</td>\n",
              "      <td>12</td>\n",
              "      <td>Goddard</td>\n",
              "      <td>N</td>\n",
              "      <td>99.391791</td>\n",
              "      <td>102.459887</td>\n",
              "    </tr>\n",
              "    <tr>\n",
              "      <th>406</th>\n",
              "      <td>1996</td>\n",
              "      <td>12</td>\n",
              "      <td>Goddard</td>\n",
              "      <td>N</td>\n",
              "      <td>100.616960</td>\n",
              "      <td>101.902030</td>\n",
              "    </tr>\n",
              "    <tr>\n",
              "      <th>407</th>\n",
              "      <td>1997</td>\n",
              "      <td>12</td>\n",
              "      <td>Goddard</td>\n",
              "      <td>N</td>\n",
              "      <td>101.765555</td>\n",
              "      <td>104.040485</td>\n",
              "    </tr>\n",
              "    <tr>\n",
              "      <th>408</th>\n",
              "      <td>1998</td>\n",
              "      <td>12</td>\n",
              "      <td>Goddard</td>\n",
              "      <td>N</td>\n",
              "      <td>101.535836</td>\n",
              "      <td>100.879290</td>\n",
              "    </tr>\n",
              "    <tr>\n",
              "      <th>409</th>\n",
              "      <td>1999</td>\n",
              "      <td>12</td>\n",
              "      <td>Goddard</td>\n",
              "      <td>N</td>\n",
              "      <td>98.626061</td>\n",
              "      <td>101.623101</td>\n",
              "    </tr>\n",
              "    <tr>\n",
              "      <th>410</th>\n",
              "      <td>2000</td>\n",
              "      <td>12</td>\n",
              "      <td>Goddard</td>\n",
              "      <td>N</td>\n",
              "      <td>98.090050</td>\n",
              "      <td>101.344172</td>\n",
              "    </tr>\n",
              "    <tr>\n",
              "      <th>411</th>\n",
              "      <td>2001</td>\n",
              "      <td>12</td>\n",
              "      <td>Goddard</td>\n",
              "      <td>N</td>\n",
              "      <td>98.319769</td>\n",
              "      <td>97.532143</td>\n",
              "    </tr>\n",
              "    <tr>\n",
              "      <th>412</th>\n",
              "      <td>2002</td>\n",
              "      <td>12</td>\n",
              "      <td>Goddard</td>\n",
              "      <td>N</td>\n",
              "      <td>98.166623</td>\n",
              "      <td>98.368930</td>\n",
              "    </tr>\n",
              "    <tr>\n",
              "      <th>413</th>\n",
              "      <td>2003</td>\n",
              "      <td>12</td>\n",
              "      <td>Goddard</td>\n",
              "      <td>N</td>\n",
              "      <td>98.166623</td>\n",
              "      <td>99.856551</td>\n",
              "    </tr>\n",
              "    <tr>\n",
              "      <th>414</th>\n",
              "      <td>2004</td>\n",
              "      <td>12</td>\n",
              "      <td>Goddard</td>\n",
              "      <td>N</td>\n",
              "      <td>97.400893</td>\n",
              "      <td>101.437148</td>\n",
              "    </tr>\n",
              "    <tr>\n",
              "      <th>415</th>\n",
              "      <td>2005</td>\n",
              "      <td>12</td>\n",
              "      <td>Goddard</td>\n",
              "      <td>N</td>\n",
              "      <td>95.486567</td>\n",
              "      <td>97.718096</td>\n",
              "    </tr>\n",
              "    <tr>\n",
              "      <th>416</th>\n",
              "      <td>2006</td>\n",
              "      <td>12</td>\n",
              "      <td>Goddard</td>\n",
              "      <td>N</td>\n",
              "      <td>93.955106</td>\n",
              "      <td>93.906067</td>\n",
              "    </tr>\n",
              "    <tr>\n",
              "      <th>417</th>\n",
              "      <td>2007</td>\n",
              "      <td>12</td>\n",
              "      <td>Goddard</td>\n",
              "      <td>N</td>\n",
              "      <td>94.873983</td>\n",
              "      <td>93.999044</td>\n",
              "    </tr>\n",
              "    <tr>\n",
              "      <th>418</th>\n",
              "      <td>2008</td>\n",
              "      <td>12</td>\n",
              "      <td>Goddard</td>\n",
              "      <td>N</td>\n",
              "      <td>95.869432</td>\n",
              "      <td>98.926788</td>\n",
              "    </tr>\n",
              "    <tr>\n",
              "      <th>419</th>\n",
              "      <td>2009</td>\n",
              "      <td>12</td>\n",
              "      <td>Goddard</td>\n",
              "      <td>N</td>\n",
              "      <td>95.792859</td>\n",
              "      <td>95.300712</td>\n",
              "    </tr>\n",
              "    <tr>\n",
              "      <th>420</th>\n",
              "      <td>2010</td>\n",
              "      <td>12</td>\n",
              "      <td>Goddard</td>\n",
              "      <td>N</td>\n",
              "      <td>92.040781</td>\n",
              "      <td>93.720115</td>\n",
              "    </tr>\n",
              "    <tr>\n",
              "      <th>421</th>\n",
              "      <td>2011</td>\n",
              "      <td>12</td>\n",
              "      <td>Goddard</td>\n",
              "      <td>N</td>\n",
              "      <td>94.950556</td>\n",
              "      <td>95.579641</td>\n",
              "    </tr>\n",
              "    <tr>\n",
              "      <th>422</th>\n",
              "      <td>2012</td>\n",
              "      <td>12</td>\n",
              "      <td>Goddard</td>\n",
              "      <td>N</td>\n",
              "      <td>93.419095</td>\n",
              "      <td>93.999044</td>\n",
              "    </tr>\n",
              "    <tr>\n",
              "      <th>423</th>\n",
              "      <td>2013</td>\n",
              "      <td>12</td>\n",
              "      <td>NRTSI-G</td>\n",
              "      <td>N</td>\n",
              "      <td>94.797410</td>\n",
              "      <td>97.439167</td>\n",
              "    </tr>\n",
              "  </tbody>\n",
              "</table>\n",
              "</div>"
            ],
            "text/plain": [
              "     year  mo data_type region      extent        area\n",
              "388  1978  12   Goddard      N  108.121117  100.879290\n",
              "389  1979  12   Goddard      N  103.679881   98.090001\n",
              "390  1980  12   Goddard      N  105.058196   99.577622\n",
              "391  1981  12   Goddard      N  105.211342   97.346191\n",
              "392  1982  12   Goddard      N  105.900499  100.507385\n",
              "393  1983  12   Goddard      N  102.914151   98.182977\n",
              "394  1984  12   Goddard      N  100.923252   94.742854\n",
              "395  1985  12   Goddard      N  100.999825   94.370949\n",
              "396  1986  12   Goddard      N  102.607859   97.253214\n",
              "398  1988  12   Goddard      N  105.517634  111.013707\n",
              "399  1989  12   Goddard      N  103.143870  107.201679\n",
              "400  1990  12   Goddard      N  101.612409  105.992987\n",
              "401  1991  12   Goddard      N  100.846679  104.040485\n",
              "402  1992  12   Goddard      N  103.067297  108.410371\n",
              "403  1993  12   Goddard      N  103.526735  106.085963\n",
              "404  1994  12   Goddard      N  103.603308  106.271916\n",
              "405  1995  12   Goddard      N   99.391791  102.459887\n",
              "406  1996  12   Goddard      N  100.616960  101.902030\n",
              "407  1997  12   Goddard      N  101.765555  104.040485\n",
              "408  1998  12   Goddard      N  101.535836  100.879290\n",
              "409  1999  12   Goddard      N   98.626061  101.623101\n",
              "410  2000  12   Goddard      N   98.090050  101.344172\n",
              "411  2001  12   Goddard      N   98.319769   97.532143\n",
              "412  2002  12   Goddard      N   98.166623   98.368930\n",
              "413  2003  12   Goddard      N   98.166623   99.856551\n",
              "414  2004  12   Goddard      N   97.400893  101.437148\n",
              "415  2005  12   Goddard      N   95.486567   97.718096\n",
              "416  2006  12   Goddard      N   93.955106   93.906067\n",
              "417  2007  12   Goddard      N   94.873983   93.999044\n",
              "418  2008  12   Goddard      N   95.869432   98.926788\n",
              "419  2009  12   Goddard      N   95.792859   95.300712\n",
              "420  2010  12   Goddard      N   92.040781   93.720115\n",
              "421  2011  12   Goddard      N   94.950556   95.579641\n",
              "422  2012  12   Goddard      N   93.419095   93.999044\n",
              "423  2013  12   NRTSI-G      N   94.797410   97.439167"
            ]
          },
          "metadata": {
            "tags": []
          },
          "execution_count": 221
        }
      ]
    },
    {
      "cell_type": "code",
      "metadata": {
        "colab": {
          "base_uri": "https://localhost:8080/",
          "height": 1000
        },
        "id": "gBJzgkysw045",
        "outputId": "a1e24763-14f5-455c-cc8e-b90121df563f"
      },
      "source": [
        "df[(df['mo']==2)]"
      ],
      "execution_count": 179,
      "outputs": [
        {
          "output_type": "execute_result",
          "data": {
            "text/html": [
              "<div>\n",
              "<style scoped>\n",
              "    .dataframe tbody tr th:only-of-type {\n",
              "        vertical-align: middle;\n",
              "    }\n",
              "\n",
              "    .dataframe tbody tr th {\n",
              "        vertical-align: top;\n",
              "    }\n",
              "\n",
              "    .dataframe thead th {\n",
              "        text-align: right;\n",
              "    }\n",
              "</style>\n",
              "<table border=\"1\" class=\"dataframe\">\n",
              "  <thead>\n",
              "    <tr style=\"text-align: right;\">\n",
              "      <th></th>\n",
              "      <th>year</th>\n",
              "      <th>mo</th>\n",
              "      <th>data_type</th>\n",
              "      <th>region</th>\n",
              "      <th>extent</th>\n",
              "      <th>area</th>\n",
              "    </tr>\n",
              "  </thead>\n",
              "  <tbody>\n",
              "    <tr>\n",
              "      <th>36</th>\n",
              "      <td>1979</td>\n",
              "      <td>2</td>\n",
              "      <td>Goddard</td>\n",
              "      <td>N</td>\n",
              "      <td>16.31</td>\n",
              "      <td>13.11</td>\n",
              "    </tr>\n",
              "    <tr>\n",
              "      <th>37</th>\n",
              "      <td>1980</td>\n",
              "      <td>2</td>\n",
              "      <td>Goddard</td>\n",
              "      <td>N</td>\n",
              "      <td>15.98</td>\n",
              "      <td>12.82</td>\n",
              "    </tr>\n",
              "    <tr>\n",
              "      <th>38</th>\n",
              "      <td>1981</td>\n",
              "      <td>2</td>\n",
              "      <td>Goddard</td>\n",
              "      <td>N</td>\n",
              "      <td>15.65</td>\n",
              "      <td>12.45</td>\n",
              "    </tr>\n",
              "    <tr>\n",
              "      <th>39</th>\n",
              "      <td>1982</td>\n",
              "      <td>2</td>\n",
              "      <td>Goddard</td>\n",
              "      <td>N</td>\n",
              "      <td>16.06</td>\n",
              "      <td>12.79</td>\n",
              "    </tr>\n",
              "    <tr>\n",
              "      <th>40</th>\n",
              "      <td>1983</td>\n",
              "      <td>2</td>\n",
              "      <td>Goddard</td>\n",
              "      <td>N</td>\n",
              "      <td>16.02</td>\n",
              "      <td>12.86</td>\n",
              "    </tr>\n",
              "    <tr>\n",
              "      <th>41</th>\n",
              "      <td>1984</td>\n",
              "      <td>2</td>\n",
              "      <td>Goddard</td>\n",
              "      <td>N</td>\n",
              "      <td>15.32</td>\n",
              "      <td>12.17</td>\n",
              "    </tr>\n",
              "    <tr>\n",
              "      <th>42</th>\n",
              "      <td>1985</td>\n",
              "      <td>2</td>\n",
              "      <td>Goddard</td>\n",
              "      <td>N</td>\n",
              "      <td>15.67</td>\n",
              "      <td>12.39</td>\n",
              "    </tr>\n",
              "    <tr>\n",
              "      <th>43</th>\n",
              "      <td>1986</td>\n",
              "      <td>2</td>\n",
              "      <td>Goddard</td>\n",
              "      <td>N</td>\n",
              "      <td>15.89</td>\n",
              "      <td>12.53</td>\n",
              "    </tr>\n",
              "    <tr>\n",
              "      <th>44</th>\n",
              "      <td>1987</td>\n",
              "      <td>2</td>\n",
              "      <td>Goddard</td>\n",
              "      <td>N</td>\n",
              "      <td>16.11</td>\n",
              "      <td>12.93</td>\n",
              "    </tr>\n",
              "    <tr>\n",
              "      <th>45</th>\n",
              "      <td>1988</td>\n",
              "      <td>2</td>\n",
              "      <td>Goddard</td>\n",
              "      <td>N</td>\n",
              "      <td>15.61</td>\n",
              "      <td>13.49</td>\n",
              "    </tr>\n",
              "    <tr>\n",
              "      <th>46</th>\n",
              "      <td>1989</td>\n",
              "      <td>2</td>\n",
              "      <td>Goddard</td>\n",
              "      <td>N</td>\n",
              "      <td>15.56</td>\n",
              "      <td>13.28</td>\n",
              "    </tr>\n",
              "    <tr>\n",
              "      <th>47</th>\n",
              "      <td>1990</td>\n",
              "      <td>2</td>\n",
              "      <td>Goddard</td>\n",
              "      <td>N</td>\n",
              "      <td>15.56</td>\n",
              "      <td>13.33</td>\n",
              "    </tr>\n",
              "    <tr>\n",
              "      <th>48</th>\n",
              "      <td>1991</td>\n",
              "      <td>2</td>\n",
              "      <td>Goddard</td>\n",
              "      <td>N</td>\n",
              "      <td>15.26</td>\n",
              "      <td>13.15</td>\n",
              "    </tr>\n",
              "    <tr>\n",
              "      <th>49</th>\n",
              "      <td>1992</td>\n",
              "      <td>2</td>\n",
              "      <td>Goddard</td>\n",
              "      <td>N</td>\n",
              "      <td>15.50</td>\n",
              "      <td>13.51</td>\n",
              "    </tr>\n",
              "    <tr>\n",
              "      <th>50</th>\n",
              "      <td>1993</td>\n",
              "      <td>2</td>\n",
              "      <td>Goddard</td>\n",
              "      <td>N</td>\n",
              "      <td>15.73</td>\n",
              "      <td>13.54</td>\n",
              "    </tr>\n",
              "    <tr>\n",
              "      <th>51</th>\n",
              "      <td>1994</td>\n",
              "      <td>2</td>\n",
              "      <td>Goddard</td>\n",
              "      <td>N</td>\n",
              "      <td>15.61</td>\n",
              "      <td>13.46</td>\n",
              "    </tr>\n",
              "    <tr>\n",
              "      <th>52</th>\n",
              "      <td>1995</td>\n",
              "      <td>2</td>\n",
              "      <td>Goddard</td>\n",
              "      <td>N</td>\n",
              "      <td>15.24</td>\n",
              "      <td>13.30</td>\n",
              "    </tr>\n",
              "    <tr>\n",
              "      <th>53</th>\n",
              "      <td>1996</td>\n",
              "      <td>2</td>\n",
              "      <td>Goddard</td>\n",
              "      <td>N</td>\n",
              "      <td>15.17</td>\n",
              "      <td>12.90</td>\n",
              "    </tr>\n",
              "    <tr>\n",
              "      <th>54</th>\n",
              "      <td>1997</td>\n",
              "      <td>2</td>\n",
              "      <td>Goddard</td>\n",
              "      <td>N</td>\n",
              "      <td>15.52</td>\n",
              "      <td>13.36</td>\n",
              "    </tr>\n",
              "    <tr>\n",
              "      <th>55</th>\n",
              "      <td>1998</td>\n",
              "      <td>2</td>\n",
              "      <td>Goddard</td>\n",
              "      <td>N</td>\n",
              "      <td>15.77</td>\n",
              "      <td>13.70</td>\n",
              "    </tr>\n",
              "    <tr>\n",
              "      <th>56</th>\n",
              "      <td>1999</td>\n",
              "      <td>2</td>\n",
              "      <td>Goddard</td>\n",
              "      <td>N</td>\n",
              "      <td>15.37</td>\n",
              "      <td>13.38</td>\n",
              "    </tr>\n",
              "    <tr>\n",
              "      <th>57</th>\n",
              "      <td>2000</td>\n",
              "      <td>2</td>\n",
              "      <td>Goddard</td>\n",
              "      <td>N</td>\n",
              "      <td>15.18</td>\n",
              "      <td>13.02</td>\n",
              "    </tr>\n",
              "    <tr>\n",
              "      <th>58</th>\n",
              "      <td>2001</td>\n",
              "      <td>2</td>\n",
              "      <td>Goddard</td>\n",
              "      <td>N</td>\n",
              "      <td>15.27</td>\n",
              "      <td>13.14</td>\n",
              "    </tr>\n",
              "    <tr>\n",
              "      <th>59</th>\n",
              "      <td>2002</td>\n",
              "      <td>2</td>\n",
              "      <td>Goddard</td>\n",
              "      <td>N</td>\n",
              "      <td>15.36</td>\n",
              "      <td>13.36</td>\n",
              "    </tr>\n",
              "    <tr>\n",
              "      <th>60</th>\n",
              "      <td>2003</td>\n",
              "      <td>2</td>\n",
              "      <td>Goddard</td>\n",
              "      <td>N</td>\n",
              "      <td>15.25</td>\n",
              "      <td>13.16</td>\n",
              "    </tr>\n",
              "    <tr>\n",
              "      <th>61</th>\n",
              "      <td>2004</td>\n",
              "      <td>2</td>\n",
              "      <td>Goddard</td>\n",
              "      <td>N</td>\n",
              "      <td>14.93</td>\n",
              "      <td>12.87</td>\n",
              "    </tr>\n",
              "    <tr>\n",
              "      <th>62</th>\n",
              "      <td>2005</td>\n",
              "      <td>2</td>\n",
              "      <td>Goddard</td>\n",
              "      <td>N</td>\n",
              "      <td>14.36</td>\n",
              "      <td>12.27</td>\n",
              "    </tr>\n",
              "    <tr>\n",
              "      <th>63</th>\n",
              "      <td>2006</td>\n",
              "      <td>2</td>\n",
              "      <td>Goddard</td>\n",
              "      <td>N</td>\n",
              "      <td>14.42</td>\n",
              "      <td>12.28</td>\n",
              "    </tr>\n",
              "    <tr>\n",
              "      <th>64</th>\n",
              "      <td>2007</td>\n",
              "      <td>2</td>\n",
              "      <td>Goddard</td>\n",
              "      <td>N</td>\n",
              "      <td>14.53</td>\n",
              "      <td>12.52</td>\n",
              "    </tr>\n",
              "    <tr>\n",
              "      <th>65</th>\n",
              "      <td>2008</td>\n",
              "      <td>2</td>\n",
              "      <td>Goddard</td>\n",
              "      <td>N</td>\n",
              "      <td>15.01</td>\n",
              "      <td>12.87</td>\n",
              "    </tr>\n",
              "    <tr>\n",
              "      <th>66</th>\n",
              "      <td>2009</td>\n",
              "      <td>2</td>\n",
              "      <td>Goddard</td>\n",
              "      <td>N</td>\n",
              "      <td>14.85</td>\n",
              "      <td>12.87</td>\n",
              "    </tr>\n",
              "    <tr>\n",
              "      <th>67</th>\n",
              "      <td>2010</td>\n",
              "      <td>2</td>\n",
              "      <td>Goddard</td>\n",
              "      <td>N</td>\n",
              "      <td>14.59</td>\n",
              "      <td>12.60</td>\n",
              "    </tr>\n",
              "    <tr>\n",
              "      <th>68</th>\n",
              "      <td>2011</td>\n",
              "      <td>2</td>\n",
              "      <td>Goddard</td>\n",
              "      <td>N</td>\n",
              "      <td>14.38</td>\n",
              "      <td>12.41</td>\n",
              "    </tr>\n",
              "    <tr>\n",
              "      <th>69</th>\n",
              "      <td>2012</td>\n",
              "      <td>2</td>\n",
              "      <td>Goddard</td>\n",
              "      <td>N</td>\n",
              "      <td>14.59</td>\n",
              "      <td>12.37</td>\n",
              "    </tr>\n",
              "    <tr>\n",
              "      <th>70</th>\n",
              "      <td>2013</td>\n",
              "      <td>2</td>\n",
              "      <td>Goddard</td>\n",
              "      <td>N</td>\n",
              "      <td>14.69</td>\n",
              "      <td>12.84</td>\n",
              "    </tr>\n",
              "    <tr>\n",
              "      <th>71</th>\n",
              "      <td>2014</td>\n",
              "      <td>2</td>\n",
              "      <td>NRTSI-G</td>\n",
              "      <td>N</td>\n",
              "      <td>14.44</td>\n",
              "      <td>12.12</td>\n",
              "    </tr>\n",
              "  </tbody>\n",
              "</table>\n",
              "</div>"
            ],
            "text/plain": [
              "    year  mo data_type region  extent   area\n",
              "36  1979   2   Goddard      N   16.31  13.11\n",
              "37  1980   2   Goddard      N   15.98  12.82\n",
              "38  1981   2   Goddard      N   15.65  12.45\n",
              "39  1982   2   Goddard      N   16.06  12.79\n",
              "40  1983   2   Goddard      N   16.02  12.86\n",
              "41  1984   2   Goddard      N   15.32  12.17\n",
              "42  1985   2   Goddard      N   15.67  12.39\n",
              "43  1986   2   Goddard      N   15.89  12.53\n",
              "44  1987   2   Goddard      N   16.11  12.93\n",
              "45  1988   2   Goddard      N   15.61  13.49\n",
              "46  1989   2   Goddard      N   15.56  13.28\n",
              "47  1990   2   Goddard      N   15.56  13.33\n",
              "48  1991   2   Goddard      N   15.26  13.15\n",
              "49  1992   2   Goddard      N   15.50  13.51\n",
              "50  1993   2   Goddard      N   15.73  13.54\n",
              "51  1994   2   Goddard      N   15.61  13.46\n",
              "52  1995   2   Goddard      N   15.24  13.30\n",
              "53  1996   2   Goddard      N   15.17  12.90\n",
              "54  1997   2   Goddard      N   15.52  13.36\n",
              "55  1998   2   Goddard      N   15.77  13.70\n",
              "56  1999   2   Goddard      N   15.37  13.38\n",
              "57  2000   2   Goddard      N   15.18  13.02\n",
              "58  2001   2   Goddard      N   15.27  13.14\n",
              "59  2002   2   Goddard      N   15.36  13.36\n",
              "60  2003   2   Goddard      N   15.25  13.16\n",
              "61  2004   2   Goddard      N   14.93  12.87\n",
              "62  2005   2   Goddard      N   14.36  12.27\n",
              "63  2006   2   Goddard      N   14.42  12.28\n",
              "64  2007   2   Goddard      N   14.53  12.52\n",
              "65  2008   2   Goddard      N   15.01  12.87\n",
              "66  2009   2   Goddard      N   14.85  12.87\n",
              "67  2010   2   Goddard      N   14.59  12.60\n",
              "68  2011   2   Goddard      N   14.38  12.41\n",
              "69  2012   2   Goddard      N   14.59  12.37\n",
              "70  2013   2   Goddard      N   14.69  12.84\n",
              "71  2014   2   NRTSI-G      N   14.44  12.12"
            ]
          },
          "metadata": {
            "tags": []
          },
          "execution_count": 179
        }
      ]
    },
    {
      "cell_type": "markdown",
      "metadata": {
        "id": "bNr_mOdeg0HP"
      },
      "source": [
        "Visualize the trend of SIE per year considering:1) all months, 2) January, 3) August"
      ]
    },
    {
      "cell_type": "code",
      "metadata": {
        "colab": {
          "base_uri": "https://localhost:8080/",
          "height": 398
        },
        "id": "4NsooDDeM5nf",
        "outputId": "140a05e6-4d70-4c6f-e82b-f116776914d3"
      },
      "source": [
        "# Considering all months ** dataframe not normalized **\n",
        "g = sns.lmplot(x=\"year\", y=\"extent\", data=df, order=1, height=5.2, aspect=2)"
      ],
      "execution_count": 267,
      "outputs": [
        {
          "output_type": "display_data",
          "data": {
            "image/png": "[encoded data removed]",
            "text/plain": [
              "<Figure size 748.8x374.4 with 1 Axes>"
            ]
          },
          "metadata": {
            "tags": [],
            "needs_background": "light"
          }
        }
      ]
    },
    {
      "cell_type": "code",
      "metadata": {
        "colab": {
          "base_uri": "https://localhost:8080/",
          "height": 398
        },
        "id": "YzHVOz4Yg0HQ",
        "outputId": "6ecc2a2d-b5de-4678-b99b-434158a8af6f"
      },
      "source": [
        "# Considering all months\n",
        "g = sns.lmplot(x=\"year\", y=\"extent\", data=df_norm, order=1, height=5.2, aspect=2)"
      ],
      "execution_count": 223,
      "outputs": [
        {
          "output_type": "display_data",
          "data": {
            "image/png": "[encoded data removed]",
            "text/plain": [
              "<Figure size 748.8x374.4 with 1 Axes>"
            ]
          },
          "metadata": {
            "tags": [],
            "needs_background": "light"
          }
        }
      ]
    },
    {
      "cell_type": "code",
      "metadata": {
        "colab": {
          "base_uri": "https://localhost:8080/",
          "height": 394
        },
        "id": "O2uNHpHc5UlS",
        "outputId": "2fb35070-ad57-45be-d443-106502823a1d"
      },
      "source": [
        "# Considering January (Month ==1)\n",
        "g = sns.lmplot(x=\"year\", y=\"extent\", data=df_norm[(df_norm['mo']==1)], order=1, height=5.2, aspect=2)\n",
        "g.set(ylim=(70, 125))\n",
        "plt.show()"
      ],
      "execution_count": 235,
      "outputs": [
        {
          "output_type": "display_data",
          "data": {
            "image/png": "[encoded data removed]",
            "text/plain": [
              "<Figure size 748.8x374.4 with 1 Axes>"
            ]
          },
          "metadata": {
            "tags": [],
            "needs_background": "light"
          }
        }
      ]
    },
    {
      "cell_type": "code",
      "metadata": {
        "colab": {
          "base_uri": "https://localhost:8080/",
          "height": 398
        },
        "id": "rWA-EW8M7Srk",
        "outputId": "e5a81bd9-23cd-4aa7-c5fe-e300db661ed6"
      },
      "source": [
        "# Considering August (Month ==8)\n",
        "g = sns.lmplot(x=\"year\", y=\"extent\", data=df_norm[(df_norm['mo']==8)], order=1, height=5.2, aspect=2)\n",
        "g.set(ylim=(70, 125))\n",
        "plt.show()"
      ],
      "execution_count": 236,
      "outputs": [
        {
          "output_type": "display_data",
          "data": {
            "image/png": "[encoded data removed]",
            "text/plain": [
              "<Figure size 748.8x374.4 with 1 Axes>"
            ]
          },
          "metadata": {
            "tags": [],
            "needs_background": "light"
          }
        }
      ]
    },
    {
      "cell_type": "markdown",
      "metadata": {
        "id": "epXGJa7mg0HQ"
      },
      "source": [
        "Calculate the Pearson correlation coefficient and the p-value for testing non-correlation of the SIE temporal trend (consider all months). Is it significant?"
      ]
    },
    {
      "cell_type": "code",
      "metadata": {
        "id": "2CUbheEpHdyv"
      },
      "source": [
        "#yes \n",
        "#Pearson correlation is -0.71. it means negative correltion btw temporal trend and SIE is found on the dataset\n",
        "# considering the negative correlation and SIE mean = 11 and SIE std =3 \n",
        "    # By Using Pvalue we calculate the probability that we get at some point a SIE value mean of 1 which is almost no Ice anymore..."
      ],
      "execution_count": null,
      "outputs": []
    },
    {
      "cell_type": "markdown",
      "metadata": {
        "id": "UA_8BmIeCS_h"
      },
      "source": [
        "Pearson's correlation coefficient $\\rho$ is a measure of the strength of the linear association between two variables. It also takes into account the standard deviation $\\sigma$ to measure the relationship among variables:\n",
        " \n",
        "$$ \\rho = \\frac{1}{n} \\sum p_i = \\frac{1}{n} \\sum  \\frac{(x_i - \\mu_X)}{\\sigma_X} \\frac{(y_i - \\mu_Y)}{\\sigma_Y}  $$\n",
        "\n",
        "Or we can rewrite $\\rho$ by factoring out $\\sigma_X$ and $\\sigma_Y$:\n",
        "\n",
        "$$ \\rho = \\frac{Cov(X,Y)}{\\sigma_X \\sigma_Y}$$\n",
        "\n",
        "When $\\rho = 0$, we cannot say that there is no relationship between the variables!\n",
        "\n",
        "Pearson's coefficient only measures **linear** correlations!"
      ]
    },
    {
      "cell_type": "code",
      "metadata": {
        "id": "mgZv7CN-FMeA"
      },
      "source": [
        "X=df_norm['year']\n",
        "Y=df_norm['extent']"
      ],
      "execution_count": 252,
      "outputs": []
    },
    {
      "cell_type": "code",
      "metadata": {
        "colab": {
          "base_uri": "https://localhost:8080/"
        },
        "id": "8Rwtc2NYE-KY",
        "outputId": "a128fbaa-abe9-4b3a-cd69-cf0354a1c1d1"
      },
      "source": [
        "def Cov(X, Y):\n",
        "    def _get_dvis(V):\n",
        "        return [v - np.mean(V) for v in V]\n",
        "    dxis = _get_dvis(X)\n",
        "    dyis = _get_dvis(Y)\n",
        "    return np.sum([x * y for x, y in zip(dxis, dyis)])/len(X)\n",
        "\n",
        "print(\"Cov(X, X) = %.2f\" % Cov(X, X))\n",
        "print(\"Var(X) = %.2f\" % np.var(X))\n",
        "\n",
        "print( \"Cov(X, Y) = %.2f\" % Cov(X, Y))"
      ],
      "execution_count": 255,
      "outputs": [
        {
          "output_type": "stream",
          "text": [
            "Cov(X, X) = 104.24\n",
            "Var(X) = 104.24\n",
            "Cov(X, Y) = -55.81\n"
          ],
          "name": "stdout"
        }
      ]
    },
    {
      "cell_type": "code",
      "metadata": {
        "id": "S02DxN-oCQ7X"
      },
      "source": [
        "#Pearson correlation\n",
        "def Corr(X, Y):\n",
        "    assert len(X) == len(Y)\n",
        "    return Cov(X, Y) / np.prod([np.std(V) for V in [X, Y]])"
      ],
      "execution_count": 256,
      "outputs": []
    },
    {
      "cell_type": "code",
      "metadata": {
        "colab": {
          "base_uri": "https://localhost:8080/"
        },
        "id": "KN0ed6pfDxCO",
        "outputId": "3699109e-9f2b-4f93-9dc0-7b742217f713"
      },
      "source": [
        "print(\"Corr(X, Y) = %.5f\" % Corr(X,Y))"
      ],
      "execution_count": 257,
      "outputs": [
        {
          "output_type": "stream",
          "text": [
            "Corr(X, Y) = -0.71578\n"
          ],
          "name": "stdout"
        }
      ]
    },
    {
      "cell_type": "code",
      "metadata": {
        "id": "-zrWCq5VJb8y"
      },
      "source": [
        "#https://towardsdatascience.com/p-value-basics-with-python-code-ae5316197c52"
      ],
      "execution_count": null,
      "outputs": []
    },
    {
      "cell_type": "code",
      "metadata": {
        "id": "8ItrImqHEKRF"
      },
      "source": [
        "def pvalue_101(mu, sigma, samp_size, samp_mean=0, deltam=0):\n",
        "    np.random.seed(1234)\n",
        "    s1 = np.random.normal(mu, sigma, samp_size)\n",
        "    if samp_mean > 0:\n",
        "        print(len(s1[s1>samp_mean]))\n",
        "        outliers = float(len(s1[s1>samp_mean])*100)/float(len(s1))\n",
        "        print('Percentage of numbers larger than {} is {}%'.format(samp_mean, outliers))\n",
        "    if deltam == 0:\n",
        "        deltam = abs(mu-samp_mean)\n",
        "    if deltam > 0 :\n",
        "        outliers = (float(len(s1[s1>(mu+deltam)]))\n",
        "                    +float(len(s1[s1<(mu-deltam)])))*100.0/float(len(s1))\n",
        "        print('Percentage of numbers further than the population mean of {} by +/-{} is {}%'.format(mu, deltam, outliers))\n",
        "\n",
        "    fig, ax = plt.subplots(figsize=(8,8))\n",
        "    fig.suptitle('Normal Distribution: population_mean={}'.format(mu) )\n",
        "    plt.hist(s1)\n",
        "    plt.axvline(x=mu+deltam, color='red')\n",
        "    plt.axvline(x=mu-deltam, color='green')\n",
        "    plt.show()"
      ],
      "execution_count": 258,
      "outputs": []
    },
    {
      "cell_type": "code",
      "metadata": {
        "colab": {
          "base_uri": "https://localhost:8080/"
        },
        "id": "6haorasvJ9ZR",
        "outputId": "7e288384-d950-4d36-b7cc-d625d336f6ce"
      },
      "source": [
        "mu = df['extent'].mean()\n",
        "sigma = df['extent'].std()\n",
        "\n",
        "print(mu)\n",
        "print(sigma)"
      ],
      "execution_count": 263,
      "outputs": [
        {
          "output_type": "stream",
          "text": [
            "11.777582938388628\n",
            "3.1207220731668\n"
          ],
          "name": "stdout"
        }
      ]
    },
    {
      "cell_type": "code",
      "metadata": {
        "colab": {
          "base_uri": "https://localhost:8080/",
          "height": 606
        },
        "id": "4x5E5lF5EKN-",
        "outputId": "f456c27c-8687-459a-a515-4dd06bfd8fa1"
      },
      "source": [
        "pvalue_101(mu, sigma, 10000, 1) "
      ],
      "execution_count": 269,
      "outputs": [
        {
          "output_type": "stream",
          "text": [
            "9996\n",
            "Percentage of numbers larger than 1 is 99.96%\n",
            "Percentage of numbers further than the population mean of 11.777582938388628 by +/-10.777582938388628 is 0.04%\n"
          ],
          "name": "stdout"
        },
        {
          "output_type": "display_data",
          "data": {
            "image/png": "[encoded data removed]",
            "text/plain": [
              "<Figure size 576x576 with 1 Axes>"
            ]
          },
          "metadata": {
            "tags": [],
            "needs_background": "light"
          }
        }
      ]
    },
    {
      "cell_type": "markdown",
      "metadata": {
        "id": "cERMNWcug0HR"
      },
      "source": [
        "### 3. Compute the trend as a simple linear regression (OLS) and quantitatively evaluate it.\n",
        "\n",
        "Provide the estimated parameters for the linear regression. \n",
        "Evaluate the quality of fit quantitatively and graphically."
      ]
    },
    {
      "cell_type": "code",
      "metadata": {
        "colab": {
          "base_uri": "https://localhost:8080/",
          "height": 398
        },
        "id": "buOBYJcRg0HR",
        "outputId": "16a4d0f4-e175-4238-fa4d-9bc948628d02"
      },
      "source": [
        "# Considering all months\n",
        "g = sns.lmplot(x=\"year\", y=\"extent\", data=df_norm, order=1, height=5.2, aspect=2)"
      ],
      "execution_count": 277,
      "outputs": [
        {
          "output_type": "display_data",
          "data": {
            "image/png": "[encoded data removed]",
            "text/plain": [
              "<Figure size 748.8x374.4 with 1 Axes>"
            ]
          },
          "metadata": {
            "tags": [],
            "needs_background": "light"
          }
        }
      ]
    },
    {
      "cell_type": "code",
      "metadata": {
        "colab": {
          "base_uri": "https://localhost:8080/"
        },
        "id": "rPgBomETxqEK",
        "outputId": "ffcc7546-5c06-4cb3-d3b7-fac1ff3c5451"
      },
      "source": [
        "from sklearn import linear_model\n",
        "from sklearn.linear_model import LinearRegression\n",
        "clf = LinearRegression(fit_intercept=False) \n",
        "clf.fit ([[0, 1], [1, 1], [2, 1]], [0, 1, 2])  # Perform the fitting\n",
        "clf.coef_"
      ],
      "execution_count": 273,
      "outputs": [
        {
          "output_type": "execute_result",
          "data": {
            "text/plain": [
              "array([1.00000000e+00, 7.94894028e-18])"
            ]
          },
          "metadata": {
            "tags": []
          },
          "execution_count": 273
        }
      ]
    },
    {
      "cell_type": "code",
      "metadata": {
        "colab": {
          "base_uri": "https://localhost:8080/"
        },
        "id": "X5SrumnbxLNf",
        "outputId": "8ba73137-eb07-45d0-9a67-27f0f84cdf1e"
      },
      "source": [
        "from sklearn.model_selection import train_test_split\n",
        "X=pd.DataFrame(df_norm['year'])\n",
        "Y=df_norm['extent']\n",
        "X_train, X_test, y_train, y_test = train_test_split(X, Y, test_size=0.3, random_state=0)\n",
        "print('Train and test sizes', X_train.shape, X_test.shape)\n",
        "SIE_reg = LinearRegression()\n",
        "SIE_reg.fit(X_train, y_train) \n",
        "print('Coeff and intercept:', SIE_reg.coef_, SIE_reg.intercept_)\n",
        "# Score is R^2: Best possible score is 1.0, lower values are worse.\n",
        "print('Score:', SIE_reg.score(X_test, y_test)) \n",
        "print('Training MSE: ', np.mean((SIE_reg.predict(X_train) - y_train)**2))\n",
        "print('Test MSE: ', np.mean((SIE_reg.predict(X_test) - y_test)**2))"
      ],
      "execution_count": 276,
      "outputs": [
        {
          "output_type": "stream",
          "text": [
            "Train and test sizes (295, 1) (127, 1)\n",
            "Coeff and intercept: [-0.52405291] 1146.1746041982922\n",
            "Score: 0.5170167022136911\n",
            "Training MSE:  27.67322297877544\n",
            "Test MSE:  30.33516162218946\n"
          ],
          "name": "stdout"
        }
      ]
    },
    {
      "cell_type": "code",
      "metadata": {
        "colab": {
          "base_uri": "https://localhost:8080/",
          "height": 301
        },
        "id": "N5WpqTcX0Pn1",
        "outputId": "157410f2-8f59-4253-fa24-c27a0d8c0e3a"
      },
      "source": [
        "# Visualize the linear model prediction\n",
        "plt.scatter(X_train, y_train, color='black')\n",
        "plt.plot(X_train, SIE_reg.predict(X_train), color='red')\n",
        "plt.xlabel('Data')\n",
        "plt.ylabel('Target')\n",
        "\n",
        "plt.scatter(X_test, y_test, color='red'),\n",
        "plt.plot(X_test, SIE_reg.predict(X_test), color='blue')\n",
        "plt.xlabel('Data')\n",
        "plt.ylabel('Target')"
      ],
      "execution_count": 282,
      "outputs": [
        {
          "output_type": "execute_result",
          "data": {
            "text/plain": [
              "Text(0, 0.5, 'Target')"
            ]
          },
          "metadata": {
            "tags": []
          },
          "execution_count": 282
        },
        {
          "output_type": "display_data",
          "data": {
            "image/png": "[encoded data removed]",
            "text/plain": [
              "<Figure size 432x288 with 1 Axes>"
            ]
          },
          "metadata": {
            "tags": [],
            "needs_background": "light"
          }
        }
      ]
    },
    {
      "cell_type": "markdown",
      "metadata": {
        "id": "wQs8x00pg0HR"
      },
      "source": [
        "### 4. Estimate the sea ice extent for January 2025\n",
        "\n",
        " Is there a negative trend in the evolution of sea ice extent over recent years? "
      ]
    },
    {
      "cell_type": "code",
      "metadata": {
        "id": "gK_5ojIug0HR"
      },
      "source": [
        "#obvio, check below"
      ],
      "execution_count": null,
      "outputs": []
    },
    {
      "cell_type": "code",
      "metadata": {
        "colab": {
          "base_uri": "https://localhost:8080/",
          "height": 398
        },
        "id": "Wuvah68ig0HS",
        "outputId": "43bb0376-5eda-4189-bee7-3f9c694c0305"
      },
      "source": [
        "# Considering all months\n",
        "g = sns.lmplot(x=\"year\", y=\"extent\", data=df_norm, order=3, height=5.2, aspect=2)"
      ],
      "execution_count": 286,
      "outputs": [
        {
          "output_type": "display_data",
          "data": {
            "image/png": "[encoded data removed]",
            "text/plain": [
              "<Figure size 748.8x374.4 with 1 Axes>"
            ]
          },
          "metadata": {
            "tags": [],
            "needs_background": "light"
          }
        }
      ]
    },
    {
      "cell_type": "code",
      "metadata": {
        "colab": {
          "base_uri": "https://localhost:8080/"
        },
        "id": "dI9bsLZn1piZ",
        "outputId": "106d22fc-b655-484b-b4d7-869772de1f9c"
      },
      "source": [
        "m=SIE_reg.coef_\n",
        "n=SIE_reg.intercept_\n",
        "x=2025\n",
        "y = m*x+n\n",
        "print('the normalized value of SIE for 2025 is:', y)"
      ],
      "execution_count": 289,
      "outputs": [
        {
          "output_type": "stream",
          "text": [
            "the normalized value of SIE for 2025 is: [84.96745981]\n"
          ],
          "name": "stdout"
        }
      ]
    }
  ]
}